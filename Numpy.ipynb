{
 "cells": [
  {
   "cell_type": "code",
   "execution_count": null,
   "id": "038973f5",
   "metadata": {},
   "outputs": [],
   "source": [
    "# numpy works with Dimensions data\n",
    "# numpy means numerical data\n",
    "# numpy is also called library works\n"
   ]
  },
  {
   "cell_type": "code",
   "execution_count": 10,
   "id": "a164fc28",
   "metadata": {},
   "outputs": [],
   "source": [
    "#import the package\n",
    "import numpy as np"
   ]
  },
  {
   "cell_type": "code",
   "execution_count": 3,
   "id": "a651e51d",
   "metadata": {},
   "outputs": [
    {
     "name": "stdout",
     "output_type": "stream",
     "text": [
      "[1, 5, 7, 11, 13]\n",
      "<class 'list'>\n"
     ]
    }
   ],
   "source": [
    "x=[1,5,7,11,13]\n",
    "print(x)\n",
    "print(type(x))"
   ]
  },
  {
   "cell_type": "code",
   "execution_count": 4,
   "id": "c0c32dfd",
   "metadata": {},
   "outputs": [
    {
     "name": "stdout",
     "output_type": "stream",
     "text": [
      "(10, 90, 30, 40, 50)\n",
      "<class 'tuple'>\n"
     ]
    }
   ],
   "source": [
    "y=(10,90,30,40,50)\n",
    "print(y)\n",
    "print(type(y))"
   ]
  },
  {
   "cell_type": "code",
   "execution_count": 5,
   "id": "50e38599",
   "metadata": {},
   "outputs": [
    {
     "name": "stdout",
     "output_type": "stream",
     "text": [
      "{200, 25, 67, 45}\n",
      "<class 'set'>\n"
     ]
    }
   ],
   "source": [
    "z={25,45,67,200}\n",
    "print(z)\n",
    "print(type(z))"
   ]
  },
  {
   "cell_type": "code",
   "execution_count": 6,
   "id": "92b3d833",
   "metadata": {},
   "outputs": [
    {
     "name": "stdout",
     "output_type": "stream",
     "text": [
      "satish\n",
      "<class 'str'>\n"
     ]
    }
   ],
   "source": [
    "a='satish'\n",
    "print(a)\n",
    "print(type(a))"
   ]
  },
  {
   "cell_type": "code",
   "execution_count": 7,
   "id": "0b28546c",
   "metadata": {},
   "outputs": [
    {
     "name": "stdout",
     "output_type": "stream",
     "text": [
      "{'course': ['python', 'sql', 'powerBi'], 'fee': [25000, 20000, 22000], 'duration': ['2Months', '2.5Months', '3Months']}\n",
      "<class 'dict'>\n"
     ]
    }
   ],
   "source": [
    "b={'course':['python','sql','powerBi'],'fee':[25000,20000,22000],'duration':['2Months','2.5Months','3Months']}\n",
    "print(b)\n",
    "print(type(b))"
   ]
  },
  {
   "cell_type": "code",
   "execution_count": 9,
   "id": "d924b2ec",
   "metadata": {},
   "outputs": [
    {
     "name": "stdout",
     "output_type": "stream",
     "text": [
      "[ 10  40  80 100]\n",
      "<class 'numpy.ndarray'>\n"
     ]
    }
   ],
   "source": [
    "# array\n",
    "\n",
    "int=np.array([10,40,80,100])\n",
    "print(int)\n",
    "print(type(int))"
   ]
  },
  {
   "cell_type": "code",
   "execution_count": 10,
   "id": "915d8ffb",
   "metadata": {},
   "outputs": [
    {
     "name": "stdout",
     "output_type": "stream",
     "text": [
      "['10000' '250.55' 'python']\n",
      "<class 'numpy.ndarray'>\n"
     ]
    }
   ],
   "source": [
    "a=np.array([10000,250.55,'python'])\n",
    "print(a)\n",
    "print(type(a))"
   ]
  },
  {
   "cell_type": "code",
   "execution_count": 14,
   "id": "dee93766",
   "metadata": {},
   "outputs": [
    {
     "name": "stdout",
     "output_type": "stream",
     "text": [
      "[[ 1  2  3  4]\n",
      " [ 5  6  7  8]\n",
      " [ 9 10 11 12]]\n",
      "(3, 4)\n",
      "2\n"
     ]
    }
   ],
   "source": [
    "values=np.array([[1,2,3,4],[5,6,7,8],[9,10,11,12]])\n",
    "print(values)\n",
    "print(values.shape)  # 3 rows and 4 columns\n",
    "print(values.ndim)  # Two dimensions"
   ]
  },
  {
   "cell_type": "code",
   "execution_count": 15,
   "id": "33c8a2f1",
   "metadata": {},
   "outputs": [
    {
     "name": "stdout",
     "output_type": "stream",
     "text": [
      "[ 10  40  80 100]\n",
      "(4,)\n",
      "1\n"
     ]
    }
   ],
   "source": [
    "\n",
    "int=np.array([10,40,80,100])\n",
    "print(int)\n",
    "print(int.shape)\n",
    "print(int.ndim)"
   ]
  },
  {
   "cell_type": "code",
   "execution_count": 17,
   "id": "7c989093",
   "metadata": {},
   "outputs": [
    {
     "name": "stdout",
     "output_type": "stream",
     "text": [
      "[[ 10  20  30]\n",
      " [ 66  34  55]\n",
      " [235 456 678]]\n",
      "<class 'numpy.ndarray'>\n",
      "(3, 3)\n",
      "2\n"
     ]
    }
   ],
   "source": [
    "a=np.array([[10,20,30],[66,34,55],[235,456,678]])\n",
    "print(a)\n",
    "print(type(a))\n",
    "print(a.shape)\n",
    "print(a.ndim)"
   ]
  },
  {
   "cell_type": "code",
   "execution_count": 18,
   "id": "9f8276ac",
   "metadata": {},
   "outputs": [
    {
     "name": "stdout",
     "output_type": "stream",
     "text": [
      "34\n"
     ]
    }
   ],
   "source": [
    "print(a[1][1])"
   ]
  },
  {
   "cell_type": "code",
   "execution_count": 19,
   "id": "f400652a",
   "metadata": {},
   "outputs": [
    {
     "name": "stdout",
     "output_type": "stream",
     "text": [
      "456\n"
     ]
    }
   ],
   "source": [
    "print(a[2][1])"
   ]
  },
  {
   "cell_type": "code",
   "execution_count": 20,
   "id": "b3b620d2",
   "metadata": {},
   "outputs": [
    {
     "name": "stdout",
     "output_type": "stream",
     "text": [
      "[ 1  2  3  4  5  6  7  8  9 10 11 12 13 14 15 16 17 18 19]\n",
      "(19,)\n",
      "1\n",
      "<class 'numpy.ndarray'>\n"
     ]
    }
   ],
   "source": [
    "x=np.arange(1,20) # follow the n-1 concept\n",
    "print(x)\n",
    "print(x.shape)\n",
    "print(x.ndim)\n",
    "print(type(x))"
   ]
  },
  {
   "cell_type": "code",
   "execution_count": 21,
   "id": "6c97f225",
   "metadata": {},
   "outputs": [
    {
     "name": "stdout",
     "output_type": "stream",
     "text": [
      "[30 31 32 33 34 35 36 37 38 39 40 41 42 43 44 45 46 47 48 49]\n",
      "(20,)\n",
      "1\n",
      "<class 'numpy.ndarray'>\n"
     ]
    }
   ],
   "source": [
    "y=np.arange(30,50)\n",
    "print(y)\n",
    "print(y.shape)\n",
    "print(y.ndim)\n",
    "print(type(y))"
   ]
  },
  {
   "cell_type": "code",
   "execution_count": 25,
   "id": "a0dcc489",
   "metadata": {},
   "outputs": [
    {
     "name": "stdout",
     "output_type": "stream",
     "text": [
      "[[ 1  2  3  4]\n",
      " [ 5  6  7  8]\n",
      " [ 9 10 11 12]\n",
      " [13 14 15 16]\n",
      " [17 18 19 20]\n",
      " [21 22 23 24]\n",
      " [25 26 27 28]\n",
      " [29 30 31 32]\n",
      " [33 34 35 36]\n",
      " [37 38 39 40]]\n",
      "(10, 4)\n",
      "2\n",
      "40\n"
     ]
    }
   ],
   "source": [
    "# reshape\n",
    "# converting 1d to 2d\n",
    "x=np.arange(1,41).reshape(10,4)\n",
    "print(x)\n",
    "print(x.shape)\n",
    "print(x.ndim)\n",
    "print(x.size)"
   ]
  },
  {
   "cell_type": "code",
   "execution_count": 27,
   "id": "fa470c49",
   "metadata": {},
   "outputs": [
    {
     "name": "stdout",
     "output_type": "stream",
     "text": [
      "[[ 1  2  3  4  5  6]\n",
      " [ 7  8  9 10 11 12]\n",
      " [13 14 15 16 17 18]\n",
      " [19 20 21 22 23 24]\n",
      " [25 26 27 28 29 30]\n",
      " [31 32 33 34 35 36]\n",
      " [37 38 39 40 41 42]\n",
      " [43 44 45 46 47 48]\n",
      " [49 50 51 52 53 54]\n",
      " [55 56 57 58 59 60]]\n",
      "(10, 6)\n",
      "2\n",
      "60\n"
     ]
    }
   ],
   "source": [
    "y=np.arange(1,61).reshape(10,6)\n",
    "print(y)\n",
    "print(y.shape)\n",
    "print(y.ndim)\n",
    "print(y.size)"
   ]
  },
  {
   "cell_type": "code",
   "execution_count": 30,
   "id": "d838f766",
   "metadata": {},
   "outputs": [
    {
     "name": "stdout",
     "output_type": "stream",
     "text": [
      "50\n"
     ]
    }
   ],
   "source": [
    "print(y[8][1])"
   ]
  },
  {
   "cell_type": "code",
   "execution_count": 33,
   "id": "df29bd20",
   "metadata": {},
   "outputs": [
    {
     "name": "stdout",
     "output_type": "stream",
     "text": [
      "35\n"
     ]
    }
   ],
   "source": [
    "print(y[5][4])"
   ]
  },
  {
   "cell_type": "code",
   "execution_count": 36,
   "id": "880d5c40",
   "metadata": {},
   "outputs": [
    {
     "name": "stdout",
     "output_type": "stream",
     "text": [
      "[[[ 1  2  3  4  5  6]\n",
      "  [ 7  8  9 10 11 12]]\n",
      "\n",
      " [[13 14 15 16 17 18]\n",
      "  [19 20 21 22 23 24]]\n",
      "\n",
      " [[25 26 27 28 29 30]\n",
      "  [31 32 33 34 35 36]]\n",
      "\n",
      " [[37 38 39 40 41 42]\n",
      "  [43 44 45 46 47 48]]\n",
      "\n",
      " [[49 50 51 52 53 54]\n",
      "  [55 56 57 58 59 60]]]\n",
      "(5, 2, 6)\n",
      "3\n",
      "60\n"
     ]
    }
   ],
   "source": [
    "# converting 1d to 3d\n",
    "y=np.arange(1,61).reshape(5,2,6)\n",
    "print(y)\n",
    "print(y.shape)\n",
    "print(y.ndim)\n",
    "print(y.size)"
   ]
  },
  {
   "cell_type": "code",
   "execution_count": 37,
   "id": "d1c880b9",
   "metadata": {},
   "outputs": [
    {
     "name": "stdout",
     "output_type": "stream",
     "text": [
      "20\n"
     ]
    }
   ],
   "source": [
    "print(y[1][1][1])"
   ]
  },
  {
   "cell_type": "code",
   "execution_count": 38,
   "id": "dc712b1c",
   "metadata": {},
   "outputs": [
    {
     "name": "stdout",
     "output_type": "stream",
     "text": [
      "46\n"
     ]
    }
   ],
   "source": [
    "print(y[3][1][3])"
   ]
  },
  {
   "cell_type": "code",
   "execution_count": 39,
   "id": "c14b70b2",
   "metadata": {},
   "outputs": [
    {
     "name": "stdout",
     "output_type": "stream",
     "text": [
      "[1 2 3 4 5 6 7 8 9]\n",
      "<class 'numpy.ndarray'>\n",
      "1\n"
     ]
    }
   ],
   "source": [
    "a=np.arange(1,10)\n",
    "print(a)\n",
    "print(type(a))\n",
    "print(a.min())"
   ]
  },
  {
   "cell_type": "code",
   "execution_count": 40,
   "id": "8bb3b200",
   "metadata": {},
   "outputs": [
    {
     "name": "stdout",
     "output_type": "stream",
     "text": [
      "9\n"
     ]
    }
   ],
   "source": [
    "print(a.max())"
   ]
  },
  {
   "cell_type": "code",
   "execution_count": 42,
   "id": "d2084a39",
   "metadata": {},
   "outputs": [
    {
     "name": "stdout",
     "output_type": "stream",
     "text": [
      "[[ 1  2  3]\n",
      " [ 6  9 10]\n",
      " [12 14 16]]\n"
     ]
    },
    {
     "data": {
      "text/plain": [
       "array([2, 2, 2], dtype=int64)"
      ]
     },
     "execution_count": 42,
     "metadata": {},
     "output_type": "execute_result"
    }
   ],
   "source": [
    "z=np.array([[1,2,3],[6,9,10],[12,14,16]])\n",
    "print(z)\n",
    "z.argmax(axis=1)"
   ]
  },
  {
   "cell_type": "code",
   "execution_count": 43,
   "id": "6273e68c",
   "metadata": {},
   "outputs": [
    {
     "data": {
      "text/plain": [
       "array([0, 0, 0], dtype=int64)"
      ]
     },
     "execution_count": 43,
     "metadata": {},
     "output_type": "execute_result"
    }
   ],
   "source": [
    "z.argmin(axis=0)"
   ]
  },
  {
   "cell_type": "code",
   "execution_count": 11,
   "id": "a548618e",
   "metadata": {},
   "outputs": [
    {
     "name": "stdout",
     "output_type": "stream",
     "text": [
      "[[ 1  2  3]\n",
      " [ 6  9 10]\n",
      " [12 14 16]]\n"
     ]
    },
    {
     "data": {
      "text/plain": [
       "array([ 1,  2,  3,  6,  9, 10, 12, 14, 16])"
      ]
     },
     "execution_count": 11,
     "metadata": {},
     "output_type": "execute_result"
    }
   ],
   "source": [
    "#ravel\n",
    "\n",
    "z=np.array([[1,2,3],[6,9,10],[12,14,16]])\n",
    "print(z)\n",
    "z.ravel()\n",
    "\n"
   ]
  },
  {
   "cell_type": "code",
   "execution_count": 12,
   "id": "7123c70b",
   "metadata": {},
   "outputs": [
    {
     "name": "stdout",
     "output_type": "stream",
     "text": [
      "[[ 1  2  3]\n",
      " [ 6  9 10]\n",
      " [12 14 16]]\n"
     ]
    },
    {
     "data": {
      "text/plain": [
       "array([[ 1,  6, 12],\n",
       "       [ 2,  9, 14],\n",
       "       [ 3, 10, 16]])"
      ]
     },
     "execution_count": 12,
     "metadata": {},
     "output_type": "execute_result"
    }
   ],
   "source": [
    "# transpose\n",
    "\n",
    "z=np.array([[1,2,3],[6,9,10],[12,14,16]])\n",
    "print(z)\n",
    "z.T"
   ]
  },
  {
   "cell_type": "code",
   "execution_count": 13,
   "id": "fb3a43da",
   "metadata": {},
   "outputs": [
    {
     "name": "stdout",
     "output_type": "stream",
     "text": [
      "[[ 11  24  13]\n",
      " [101  11 122]\n",
      " [121  20   2]\n",
      " [  1   2   3]\n",
      " [ 10  11  12]\n",
      " [ 99  98 200]]\n"
     ]
    }
   ],
   "source": [
    "# # concatinate\n",
    "\n",
    "a = np.array([[11,24,13] , [101,11,122] , [121,20,2]])\n",
    "\n",
    "b = np.array([[1,2,3],[10,11,12],[99,98,200]])\n",
    "\n",
    "c = np.concatenate((a,b))\n",
    "\n",
    "print(c)"
   ]
  },
  {
   "cell_type": "code",
   "execution_count": null,
   "id": "ca387ba7",
   "metadata": {},
   "outputs": [],
   "source": []
  }
 ],
 "metadata": {
  "kernelspec": {
   "display_name": "Python 3 (ipykernel)",
   "language": "python",
   "name": "python3"
  },
  "language_info": {
   "codemirror_mode": {
    "name": "ipython",
    "version": 3
   },
   "file_extension": ".py",
   "mimetype": "text/x-python",
   "name": "python",
   "nbconvert_exporter": "python",
   "pygments_lexer": "ipython3",
   "version": "3.11.5"
  }
 },
 "nbformat": 4,
 "nbformat_minor": 5
}
